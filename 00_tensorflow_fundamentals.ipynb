{
 "cells": [
  {
   "cell_type": "markdown",
   "id": "c7d65b3a-dffb-4b46-b036-fb06c786ed37",
   "metadata": {},
   "source": [
    "### Tensorflow - Fundamentals\n",
    "\n",
    "#### In this notebook, we 're going to cover some of the most fundamental concepts of tensors using Tensorflow\n",
    "\n",
    "* Introduction to tensors\n",
    "* Getting information from tensors\n",
    "* Manipulating tensors\n",
    "* Tensors & Numpy\n",
    "* Using @tf.function (a way to speed up your regular Python functions)\n",
    "* Using GPUs with TensorFlow (or TPUs)\n",
    "* Exercises"
   ]
  },
  {
   "cell_type": "markdown",
   "id": "1f28b13f-0cca-47c4-bcc0-15f6df6f3510",
   "metadata": {},
   "source": [
    "#### Introduction to Tensors\n",
    "\n",
    "* Scalar: A single number\n",
    "* Vector: A number with direction (e.g. wind speed and direction)\n",
    "* Matrix: A 2-dimensional array of number\n",
    "* Tensor: A n-dimensional array of numbers (when n can be any number, a 0-dimensional tensor is a scalar, a 1-dimensional tensor is a vector)"
   ]
  },
  {
   "cell_type": "markdown",
   "id": "fef91807-fa68-444c-aab2-faae82b7fa5f",
   "metadata": {},
   "source": [
    "##### Creating tensors with `tf.constant`:"
   ]
  },
  {
   "cell_type": "code",
   "execution_count": 1,
   "id": "cd0006de-0734-4ef6-b671-00e53e012cac",
   "metadata": {},
   "outputs": [
    {
     "name": "stdout",
     "output_type": "stream",
     "text": [
      "2.17.0\n"
     ]
    }
   ],
   "source": [
    "# Import Tensorflow\n",
    "import tensorflow as tf\n",
    "print(tf.__version__)"
   ]
  },
  {
   "cell_type": "code",
   "execution_count": 2,
   "id": "f159e91e-dfee-4137-920b-9c3b74689320",
   "metadata": {},
   "outputs": [
    {
     "data": {
      "text/plain": [
       "<tf.Tensor: shape=(), dtype=int32, numpy=7>"
      ]
     },
     "execution_count": 2,
     "metadata": {},
     "output_type": "execute_result"
    }
   ],
   "source": [
    "# Create tensors with tf.constant()\n",
    "scalar = tf.constant(7)\n",
    "scalar"
   ]
  },
  {
   "cell_type": "code",
   "execution_count": 3,
   "id": "ca56cf79-61f8-4e31-87ce-674a63fc7887",
   "metadata": {},
   "outputs": [
    {
     "data": {
      "text/plain": [
       "0"
      ]
     },
     "execution_count": 3,
     "metadata": {},
     "output_type": "execute_result"
    }
   ],
   "source": [
    "# Check the number of dimensions of a tensor (ndim stands for number of dimensions)\n",
    "scalar.ndim"
   ]
  },
  {
   "cell_type": "code",
   "execution_count": 4,
   "id": "bc4685e8-de35-4a6c-9cc6-3094e8e0fff1",
   "metadata": {},
   "outputs": [
    {
     "data": {
      "text/plain": [
       "<tf.Tensor: shape=(2,), dtype=int32, numpy=array([10, 10])>"
      ]
     },
     "execution_count": 4,
     "metadata": {},
     "output_type": "execute_result"
    }
   ],
   "source": [
    "# Create a vector\n",
    "vector = tf.constant([10,10])\n",
    "vector"
   ]
  },
  {
   "cell_type": "code",
   "execution_count": 5,
   "id": "6ffcbf8e-75a8-40be-a530-4d02fa6334d1",
   "metadata": {},
   "outputs": [
    {
     "data": {
      "text/plain": [
       "1"
      ]
     },
     "execution_count": 5,
     "metadata": {},
     "output_type": "execute_result"
    }
   ],
   "source": [
    "# Check the dimension of our vecto\n",
    "vector.ndim"
   ]
  },
  {
   "cell_type": "code",
   "execution_count": 6,
   "id": "ecc2e659-8feb-4907-a145-3e153efb6580",
   "metadata": {},
   "outputs": [
    {
     "data": {
      "text/plain": [
       "<tf.Tensor: shape=(2, 2), dtype=int32, numpy=\n",
       "array([[10,  7],\n",
       "       [ 7, 10]])>"
      ]
     },
     "execution_count": 6,
     "metadata": {},
     "output_type": "execute_result"
    }
   ],
   "source": [
    "# Create a matrix (has more than 1 dimension)\n",
    "\n",
    "matrix = tf.constant([[10, 7],[7, 10]])\n",
    "matrix"
   ]
  },
  {
   "cell_type": "code",
   "execution_count": 7,
   "id": "abd76472-18cf-45e8-82e9-e7cf25c64e8f",
   "metadata": {},
   "outputs": [
    {
     "data": {
      "text/plain": [
       "2"
      ]
     },
     "execution_count": 7,
     "metadata": {},
     "output_type": "execute_result"
    }
   ],
   "source": [
    "matrix.ndim"
   ]
  },
  {
   "cell_type": "code",
   "execution_count": 8,
   "id": "f4b6eb4c-b821-4a41-ae75-c0cfbc05975d",
   "metadata": {},
   "outputs": [
    {
     "data": {
      "text/plain": [
       "<tf.Tensor: shape=(3, 2), dtype=float16, numpy=\n",
       "array([[10.,  7.],\n",
       "       [ 7., 10.],\n",
       "       [ 9.,  8.]], dtype=float16)>"
      ]
     },
     "execution_count": 8,
     "metadata": {},
     "output_type": "execute_result"
    }
   ],
   "source": [
    "# Create a matrix (has more than 1 dimension)\n",
    "\n",
    "another_matrix = tf.constant([[10., 7.],[7., 10.], [9., 8.]], dtype=tf.float16) # Specify the data type \n",
    "another_matrix"
   ]
  },
  {
   "cell_type": "code",
   "execution_count": 9,
   "id": "3c2a3fbe-595f-43b9-a936-f28fc90f7f90",
   "metadata": {},
   "outputs": [
    {
     "data": {
      "text/plain": [
       "2"
      ]
     },
     "execution_count": 9,
     "metadata": {},
     "output_type": "execute_result"
    }
   ],
   "source": [
    "another_matrix.ndim"
   ]
  },
  {
   "cell_type": "code",
   "execution_count": 10,
   "id": "dc323926-087a-4f58-b671-44238a6e41fe",
   "metadata": {},
   "outputs": [
    {
     "data": {
      "text/plain": [
       "<tf.Tensor: shape=(3, 3, 3), dtype=int32, numpy=\n",
       "array([[[ 1,  2,  3],\n",
       "        [ 4,  5,  6],\n",
       "        [ 7,  8,  9]],\n",
       "\n",
       "       [[10, 11, 12],\n",
       "        [13, 14, 15],\n",
       "        [16, 17, 18]],\n",
       "\n",
       "       [[19, 20, 21],\n",
       "        [22, 23, 24],\n",
       "        [25, 26, 27]]])>"
      ]
     },
     "execution_count": 10,
     "metadata": {},
     "output_type": "execute_result"
    }
   ],
   "source": [
    "tensor = tf.constant([[[1, 2, 3], \n",
    "                             [4, 5, 6], \n",
    "                             [7, 8, 9]],\n",
    "\n",
    "                            [[10, 11, 12], \n",
    "                             [13, 14, 15], \n",
    "                             [16, 17, 18]],\n",
    "\n",
    "                            [[19, 20, 21], \n",
    "                             [22, 23, 24], \n",
    "                             [25, 26, 27]]])\n",
    "tensor"
   ]
  },
  {
   "cell_type": "code",
   "execution_count": 11,
   "id": "80304ade-a67f-459c-822a-40220cb051c8",
   "metadata": {},
   "outputs": [
    {
     "data": {
      "text/plain": [
       "3"
      ]
     },
     "execution_count": 11,
     "metadata": {},
     "output_type": "execute_result"
    }
   ],
   "source": [
    "tensor.ndim"
   ]
  },
  {
   "cell_type": "markdown",
   "id": "903489e5-62d2-4a65-ad3b-232ca879406c",
   "metadata": {},
   "source": [
    "##### Creating tensors with `tf.Variable`:"
   ]
  },
  {
   "cell_type": "code",
   "execution_count": 12,
   "id": "9424b6f6-0f8d-4608-98c3-5262e0f395df",
   "metadata": {},
   "outputs": [
    {
     "data": {
      "text/plain": [
       "(<tf.Variable 'Variable:0' shape=(2,) dtype=int32, numpy=array([10, 10])>,\n",
       " <tf.Tensor: shape=(2,), dtype=int32, numpy=array([10, 10])>)"
      ]
     },
     "execution_count": 12,
     "metadata": {},
     "output_type": "execute_result"
    }
   ],
   "source": [
    "changeable_tensor = tf.Variable([10,10])\n",
    "unchangeable_tensor = tf.constant([10,10])\n",
    "\n",
    "changeable_tensor, unchangeable_tensor"
   ]
  },
  {
   "cell_type": "code",
   "execution_count": 13,
   "id": "af43add7-fad8-4262-92c8-04739da67c02",
   "metadata": {},
   "outputs": [
    {
     "data": {
      "text/plain": [
       "<tf.Variable 'Variable:0' shape=(2,) dtype=int32, numpy=array([ 7, 10])>"
      ]
     },
     "execution_count": 13,
     "metadata": {},
     "output_type": "execute_result"
    }
   ],
   "source": [
    "# Let's try change one of the elements in our changeable tensor\n",
    "\n",
    "# changeable_tensor[0] = 7 no funcionaría\n",
    "# unchangeable_tensor[0].assign(7) tampoco funcionaría\n",
    "\n",
    "changeable_tensor[0].assign(7)\n",
    "changeable_tensor"
   ]
  },
  {
   "cell_type": "markdown",
   "id": "5a22a399-32fa-40f4-aeef-425cb3786ef9",
   "metadata": {},
   "source": [
    "##### Creating random tensors with `tf.random.Generator`:\n",
    "\n",
    "Suelen utilizarse para inicializar los pesos al principio"
   ]
  },
  {
   "cell_type": "code",
   "execution_count": 14,
   "id": "49e9276f-75df-49d3-909c-afeeb38f0f7c",
   "metadata": {},
   "outputs": [
    {
     "data": {
      "text/plain": [
       "(<tf.Tensor: shape=(1, 2), dtype=float32, numpy=array([[-0.23193763, -1.8107855 ]], dtype=float32)>,\n",
       " <tf.Tensor: shape=(1, 2), dtype=float32, numpy=array([[-0.23193763, -1.8107855 ]], dtype=float32)>,\n",
       " <tf.Tensor: shape=(1, 2), dtype=bool, numpy=array([[ True,  True]])>)"
      ]
     },
     "execution_count": 14,
     "metadata": {},
     "output_type": "execute_result"
    }
   ],
   "source": [
    "# Podemos utilizar distintas distribuciones normal, ....\n",
    "\n",
    "random_1 = tf.random.Generator.from_seed(43)\n",
    "random_1 = random_1.normal(shape=(1,2))\n",
    "\n",
    "random_2 = tf.random.Generator.from_seed(43)\n",
    "random_2 = random_2.normal(shape=(1,2))\n",
    "\n",
    "random_1, random_2, random_1 == random_2\n"
   ]
  },
  {
   "cell_type": "markdown",
   "id": "3d70d223-ea01-4d3d-8013-9fc0b8f6c334",
   "metadata": {},
   "source": [
    "##### Shuffle a tensor (Valuable to shuffle the data and prevent a wrong training) `tf.random.Generator`:"
   ]
  },
  {
   "cell_type": "code",
   "execution_count": 15,
   "id": "2e927f82-807b-40c7-873b-007a0ac3c39a",
   "metadata": {},
   "outputs": [
    {
     "data": {
      "text/plain": [
       "<tf.Tensor: shape=(3, 2), dtype=float32, numpy=\n",
       "array([[10.,  7.],\n",
       "       [ 7., 10.],\n",
       "       [ 9.,  8.]], dtype=float32)>"
      ]
     },
     "execution_count": 15,
     "metadata": {},
     "output_type": "execute_result"
    }
   ],
   "source": [
    "# Shuffle a tensor\n",
    "not_shuffled = tf.constant([[10., 7.],[7., 10.], [9., 8.]]) \n",
    "not_shuffled"
   ]
  },
  {
   "cell_type": "code",
   "execution_count": 16,
   "id": "01bfb4ad-cda1-48ca-bef9-86f3c4b82715",
   "metadata": {},
   "outputs": [
    {
     "data": {
      "text/plain": [
       "<tf.Tensor: shape=(3, 2), dtype=float32, numpy=\n",
       "array([[ 9.,  8.],\n",
       "       [ 7., 10.],\n",
       "       [10.,  7.]], dtype=float32)>"
      ]
     },
     "execution_count": 16,
     "metadata": {},
     "output_type": "execute_result"
    }
   ],
   "source": [
    "# Shuffle our non-shuffled tensor\n",
    "shuffled = tf.random.shuffle(not_shuffled, seed=42)\n",
    "shuffled"
   ]
  },
  {
   "cell_type": "code",
   "execution_count": 17,
   "id": "f085d4da-78d1-410b-a1ec-824ddb1ce698",
   "metadata": {},
   "outputs": [
    {
     "data": {
      "text/plain": [
       "<tf.Tensor: shape=(3, 2), dtype=float32, numpy=\n",
       "array([[10.,  7.],\n",
       "       [ 7., 10.],\n",
       "       [ 9.,  8.]], dtype=float32)>"
      ]
     },
     "execution_count": 17,
     "metadata": {},
     "output_type": "execute_result"
    }
   ],
   "source": [
    "# Random seed generator in tf\n",
    "\n",
    "tf.random.set_seed(42) # Global level random seed\n",
    "tf.random.shuffle(not_shuffled, seed=42) # Operation level random seed"
   ]
  },
  {
   "cell_type": "markdown",
   "id": "30d409a4-00f9-4ca0-a8bc-bf66e5ef6bb5",
   "metadata": {},
   "source": [
    "##### Other ways to create tensors"
   ]
  },
  {
   "cell_type": "code",
   "execution_count": 18,
   "id": "3bbc769e-314b-4ce7-9d21-8f770fcbc9f9",
   "metadata": {},
   "outputs": [
    {
     "data": {
      "text/plain": [
       "<tf.Tensor: shape=(10, 7), dtype=float32, numpy=\n",
       "array([[1., 1., 1., 1., 1., 1., 1.],\n",
       "       [1., 1., 1., 1., 1., 1., 1.],\n",
       "       [1., 1., 1., 1., 1., 1., 1.],\n",
       "       [1., 1., 1., 1., 1., 1., 1.],\n",
       "       [1., 1., 1., 1., 1., 1., 1.],\n",
       "       [1., 1., 1., 1., 1., 1., 1.],\n",
       "       [1., 1., 1., 1., 1., 1., 1.],\n",
       "       [1., 1., 1., 1., 1., 1., 1.],\n",
       "       [1., 1., 1., 1., 1., 1., 1.],\n",
       "       [1., 1., 1., 1., 1., 1., 1.]], dtype=float32)>"
      ]
     },
     "execution_count": 18,
     "metadata": {},
     "output_type": "execute_result"
    }
   ],
   "source": [
    "tf.ones([10,7])"
   ]
  },
  {
   "cell_type": "code",
   "execution_count": 19,
   "id": "63c7bec9-c346-4de5-acdc-7dbf718a9e50",
   "metadata": {},
   "outputs": [
    {
     "data": {
      "text/plain": [
       "<tf.Tensor: shape=(10, 7), dtype=float32, numpy=\n",
       "array([[0., 0., 0., 0., 0., 0., 0.],\n",
       "       [0., 0., 0., 0., 0., 0., 0.],\n",
       "       [0., 0., 0., 0., 0., 0., 0.],\n",
       "       [0., 0., 0., 0., 0., 0., 0.],\n",
       "       [0., 0., 0., 0., 0., 0., 0.],\n",
       "       [0., 0., 0., 0., 0., 0., 0.],\n",
       "       [0., 0., 0., 0., 0., 0., 0.],\n",
       "       [0., 0., 0., 0., 0., 0., 0.],\n",
       "       [0., 0., 0., 0., 0., 0., 0.],\n",
       "       [0., 0., 0., 0., 0., 0., 0.]], dtype=float32)>"
      ]
     },
     "execution_count": 19,
     "metadata": {},
     "output_type": "execute_result"
    }
   ],
   "source": [
    "tf.zeros((10,7))"
   ]
  },
  {
   "cell_type": "markdown",
   "id": "16fcf066-3c62-4e26-82a9-dffea9ec6827",
   "metadata": {},
   "source": [
    "##### Turn Numpy arrays into tensors\n",
    "\n",
    "The main difference between NumPy arrays and Tensorflow tensors is that tensors can be run on a GPU (much faster for numerical computing)"
   ]
  },
  {
   "cell_type": "code",
   "execution_count": 20,
   "id": "215fad55-fd9b-461c-a24a-2f347fe08d1f",
   "metadata": {},
   "outputs": [
    {
     "data": {
      "text/plain": [
       "array([ 1,  2,  3,  4,  5,  6,  7,  8,  9, 10, 11, 12, 13, 14, 15, 16, 17,\n",
       "       18, 19, 20, 21, 22, 23, 24])"
      ]
     },
     "execution_count": 20,
     "metadata": {},
     "output_type": "execute_result"
    }
   ],
   "source": [
    "import numpy as np\n",
    "\n",
    "# Numpy array de 1 a n\n",
    "numpy_A = np.arange(1, 25, dtype=np.int32)\n",
    "numpy_A"
   ]
  },
  {
   "cell_type": "code",
   "execution_count": 21,
   "id": "74bffabf-ddff-4493-8553-9b54b1293df5",
   "metadata": {},
   "outputs": [
    {
     "data": {
      "text/plain": [
       "(<tf.Tensor: shape=(24,), dtype=int32, numpy=\n",
       " array([ 1,  2,  3,  4,  5,  6,  7,  8,  9, 10, 11, 12, 13, 14, 15, 16, 17,\n",
       "        18, 19, 20, 21, 22, 23, 24])>,\n",
       " <tf.Tensor: shape=(2, 3, 4), dtype=int32, numpy=\n",
       " array([[[ 1,  2,  3,  4],\n",
       "         [ 5,  6,  7,  8],\n",
       "         [ 9, 10, 11, 12]],\n",
       " \n",
       "        [[13, 14, 15, 16],\n",
       "         [17, 18, 19, 20],\n",
       "         [21, 22, 23, 24]]])>)"
      ]
     },
     "execution_count": 21,
     "metadata": {},
     "output_type": "execute_result"
    }
   ],
   "source": [
    "A = tf.constant(numpy_A)\n",
    "\n",
    "# El shape dice x matrices, con y filas y z columnas\n",
    "B = tf.constant(numpy_A, shape=(2, 3, 4))\n",
    "\n",
    "A, B"
   ]
  },
  {
   "cell_type": "markdown",
   "id": "ddc74f4d-f3fb-4d2b-be7f-f9649a2cea14",
   "metadata": {},
   "source": [
    "##### Tensor attributes\n",
    "\n",
    "When dealing with tensor you probably want to be aware of the following attributes\n",
    "\n",
    "* Shape: The shape of a tensor describes the number of elements along each dimension of the tensor. It is represented as a tuple of integers.\n",
    "* Rank: The rank of a tensor is the number of dimensions or axes it has. For example, a scalar has rank 0, a vector has rank 1, a matrix has rank 2, and so on.\n",
    "* Axis or dimension: An axis (or dimension) is a specific dimension of a tensor. It is indexed from 0. For example, in a 2D tensor (matrix), axis 0 refers to the rows, and axis 1 refers to the columns.\n",
    "* Size: The size of a tensor is the total number of elements in the tensor. It is the product of all the dimensions' sizes."
   ]
  },
  {
   "cell_type": "code",
   "execution_count": 22,
   "id": "893ff034-451e-4797-a0d1-ffe5963721cf",
   "metadata": {},
   "outputs": [
    {
     "data": {
      "text/plain": [
       "(TensorShape([2, 3, 4, 5]), 4, <tf.Tensor: shape=(), dtype=int32, numpy=120>)"
      ]
     },
     "execution_count": 22,
     "metadata": {},
     "output_type": "execute_result"
    }
   ],
   "source": [
    "rank_4_tensor = tf.zeros(shape=[2,3,4,5])\n",
    "rank_4_tensor.shape, rank_4_tensor.ndim, tf.size(rank_4_tensor)"
   ]
  },
  {
   "cell_type": "code",
   "execution_count": 23,
   "id": "7e483ba6-45a5-4043-aa57-b473eb414e5a",
   "metadata": {},
   "outputs": [
    {
     "data": {
      "text/plain": [
       "120"
      ]
     },
     "execution_count": 23,
     "metadata": {},
     "output_type": "execute_result"
    }
   ],
   "source": [
    "2 * 3 * 4 * 5"
   ]
  },
  {
   "cell_type": "code",
   "execution_count": 24,
   "id": "37953287-81a8-4bd1-a36a-aecb9ac8bb42",
   "metadata": {},
   "outputs": [
    {
     "name": "stdout",
     "output_type": "stream",
     "text": [
      "Datatype of every element: <dtype: 'float32'>\n",
      "Number of dimensions (rank): 4\n",
      "Shape of tensor: (2, 3, 4, 5)\n",
      "Elements along the 0 axis: 2\n",
      "Elements along the last axis: 5\n",
      "Total number of elements in our tensor: tf.Tensor(120, shape=(), dtype=int32)\n",
      "Total number of elements in our tensor: 120\n"
     ]
    }
   ],
   "source": [
    "# Get various attributes of our tensor\n",
    "print(\"Datatype of every element:\", rank_4_tensor.dtype)\n",
    "print(\"Number of dimensions (rank):\", rank_4_tensor.ndim)\n",
    "print(\"Shape of tensor:\", rank_4_tensor.shape)\n",
    "print(\"Elements along the 0 axis:\", rank_4_tensor.shape[0])\n",
    "print(\"Elements along the last axis:\", rank_4_tensor.shape[-1])\n",
    "print(\"Total number of elements in our tensor:\", tf.size(rank_4_tensor))\n",
    "print(\"Total number of elements in our tensor:\", tf.size(rank_4_tensor).numpy())"
   ]
  },
  {
   "cell_type": "markdown",
   "id": "f7282976-3c7e-4933-82f6-73c1c48b67d6",
   "metadata": {},
   "source": [
    "##### Indexing tensors\n",
    "\n",
    "Tensors can be indexed just like Python lists."
   ]
  },
  {
   "cell_type": "code",
   "execution_count": 25,
   "id": "711370ab-67af-4792-9094-997a1d8574b6",
   "metadata": {},
   "outputs": [
    {
     "data": {
      "text/plain": [
       "<tf.Tensor: shape=(2, 2, 2, 2), dtype=float32, numpy=\n",
       "array([[[[0., 0.],\n",
       "         [0., 0.]],\n",
       "\n",
       "        [[0., 0.],\n",
       "         [0., 0.]]],\n",
       "\n",
       "\n",
       "       [[[0., 0.],\n",
       "         [0., 0.]],\n",
       "\n",
       "        [[0., 0.],\n",
       "         [0., 0.]]]], dtype=float32)>"
      ]
     },
     "execution_count": 25,
     "metadata": {},
     "output_type": "execute_result"
    }
   ],
   "source": [
    "rank_4_tensor[:2, :2, :2, :2]"
   ]
  },
  {
   "cell_type": "code",
   "execution_count": 26,
   "id": "62c9d07e-c334-4c50-9643-58bfdc7000f5",
   "metadata": {},
   "outputs": [
    {
     "data": {
      "text/plain": [
       "<tf.Tensor: shape=(1, 1, 3, 5), dtype=float32, numpy=\n",
       "array([[[[0., 0., 0., 0., 0.],\n",
       "         [0., 0., 0., 0., 0.],\n",
       "         [0., 0., 0., 0., 0.]]]], dtype=float32)>"
      ]
     },
     "execution_count": 26,
     "metadata": {},
     "output_type": "execute_result"
    }
   ],
   "source": [
    "# Get the first element from each dimension from each index except for the final one \n",
    "\n",
    "rank_4_tensor[:1, :1, 1:, :]"
   ]
  },
  {
   "cell_type": "code",
   "execution_count": 27,
   "id": "4ac25c7f-9158-4e5b-bcfb-9906cb8bdbe3",
   "metadata": {},
   "outputs": [
    {
     "data": {
      "text/plain": [
       "<tf.Tensor: shape=(2,), dtype=int32, numpy=array([7, 2])>"
      ]
     },
     "execution_count": 27,
     "metadata": {},
     "output_type": "execute_result"
    }
   ],
   "source": [
    "# Get the last item of each of row of our rank 2 tensor\n",
    "\n",
    "rank_2_tensor = tf.constant([[2,7],[7,2]])\n",
    "\n",
    "rank_2_tensor[:,-1]"
   ]
  },
  {
   "cell_type": "code",
   "execution_count": 28,
   "id": "bd20141d-fadb-41e9-9b56-81c305bc2649",
   "metadata": {},
   "outputs": [
    {
     "data": {
      "text/plain": [
       "<tf.Tensor: shape=(2, 2, 1), dtype=int32, numpy=\n",
       "array([[[2],\n",
       "        [7]],\n",
       "\n",
       "       [[7],\n",
       "        [2]]])>"
      ]
     },
     "execution_count": 28,
     "metadata": {},
     "output_type": "execute_result"
    }
   ],
   "source": [
    "# Add in extra dimension at the end \n",
    "# Los puntos deja al resto de accesos anteriores a : tipo -> rank_2_tensor[:,:,tf.newaxis]\n",
    "rank_3_tensor = rank_2_tensor[..., tf.newaxis]\n",
    "\n",
    "rank_3_tensor"
   ]
  },
  {
   "cell_type": "code",
   "execution_count": 29,
   "id": "1c3e23a6-b841-48fa-a286-7f5fc1937461",
   "metadata": {},
   "outputs": [
    {
     "data": {
      "text/plain": [
       "<tf.Tensor: shape=(1, 2, 2), dtype=int32, numpy=\n",
       "array([[[2, 7],\n",
       "        [7, 2]]])>"
      ]
     },
     "execution_count": 29,
     "metadata": {},
     "output_type": "execute_result"
    }
   ],
   "source": [
    "# Alternative to tf.newaxis\n",
    "\n",
    "tf.expand_dims(rank_2_tensor, axis=-1) # El -1 significa el último axis\n",
    "tf.expand_dims(rank_2_tensor, axis=0) # Expande el primer axis"
   ]
  },
  {
   "cell_type": "markdown",
   "id": "dd687b7a-c01a-444f-a328-4466cfb37474",
   "metadata": {},
   "source": [
    "##### Manipulating tensors (Tensor operations)\n",
    "\n",
    "**Basic operations**\n",
    "\n"
   ]
  },
  {
   "cell_type": "code",
   "execution_count": 30,
   "id": "e0a17ca3-1576-42d1-b547-139269848fce",
   "metadata": {},
   "outputs": [
    {
     "data": {
      "text/plain": [
       "<tf.Tensor: shape=(2, 2), dtype=int32, numpy=\n",
       "array([[20, 70],\n",
       "       [70, 20]])>"
      ]
     },
     "execution_count": 30,
     "metadata": {},
     "output_type": "execute_result"
    }
   ],
   "source": [
    "# Suma n a todos los valores\n",
    "\n",
    "# Funcionará con cualquier operador: + - * /\n",
    "tensor = tf.constant([[2,7],[7,2]])\n",
    "tensor * 10"
   ]
  },
  {
   "cell_type": "code",
   "execution_count": 31,
   "id": "b6385707-e568-4e97-be32-e0b3ed8fc7c2",
   "metadata": {},
   "outputs": [
    {
     "data": {
      "text/plain": [
       "<tf.Tensor: shape=(2, 2), dtype=int32, numpy=\n",
       "array([[4, 9],\n",
       "       [9, 4]])>"
      ]
     },
     "execution_count": 31,
     "metadata": {},
     "output_type": "execute_result"
    }
   ],
   "source": [
    "# We cna use the tensor built-in function too\n",
    "\n",
    "tf.multiply(tensor, 10)\n",
    "tf.add(tensor, 5)\n",
    "tf.divide(tensor, 5)\n",
    "tf.subtract(tensor, 5)\n",
    "\n",
    "# Para aplicar funciones usamos map_fn\n",
    "def myFunction(x):\n",
    "    return x + 2\n",
    "\n",
    "tf.map_fn(myFunction, tensor)"
   ]
  },
  {
   "cell_type": "markdown",
   "id": "2ff722a2-5115-4171-bba5-2d5efbd7e84d",
   "metadata": {},
   "source": [
    "\n",
    "\n",
    "**Matrix multiplication**\n",
    "\n",
    "Usamos `tf.matmul`\n",
    "\n",
    "Para ello debemos tener en cuenta:\n",
    "\n",
    "- Regla de compatibilidad: El número de columnas de la primera matriz debe ser igual al número de filas de la segunda.\n",
    "\n",
    "- Dimensiones de la matriz resultante: La matriz resultante tiene tantas filas como la primera matriz y tantas columnas como la segunda.\n",
    "\n",
    "- Cálculo de los elementos: Cada elemento de la matriz resultante es el producto punto entre una fila de la primera matriz y una columna de la segunda."
   ]
  },
  {
   "cell_type": "code",
   "execution_count": 37,
   "id": "b3e1f197-e077-49fb-b680-5445f744a7d9",
   "metadata": {},
   "outputs": [
    {
     "data": {
      "text/plain": [
       "<tf.Tensor: shape=(2, 2), dtype=int32, numpy=\n",
       "array([[53, 28],\n",
       "       [28, 53]])>"
      ]
     },
     "execution_count": 37,
     "metadata": {},
     "output_type": "execute_result"
    }
   ],
   "source": [
    "# Haciendolo con matmul de tf\n",
    "tf.matmul(tensor,tensor)\n",
    "\n",
    "# Haciendolo con Python operator \"@\"\n",
    "tensor @ tensor"
   ]
  },
  {
   "cell_type": "code",
   "execution_count": 44,
   "id": "1903aeef-c467-4868-aa86-595f04d11b8e",
   "metadata": {},
   "outputs": [
    {
     "data": {
      "text/plain": [
       "(<tf.Tensor: shape=(2, 3), dtype=int32, numpy=\n",
       " array([[ 7,  9, 11],\n",
       "        [ 8, 10, 12]])>,\n",
       " <tf.Tensor: shape=(2, 3), dtype=int32, numpy=\n",
       " array([[ 7,  8,  9],\n",
       "        [10, 11, 12]])>)"
      ]
     },
     "execution_count": 44,
     "metadata": {},
     "output_type": "execute_result"
    }
   ],
   "source": [
    "# Create a tensor (3,2) tensor\n",
    "X = tf.constant([[1, 2], [3, 4], [5, 6]])\n",
    "\n",
    "# Create another (3,2) tensor \n",
    "Y = tf.constant([[7, 8], [9, 10], [11, 12]])\n",
    "\n",
    "\n",
    "# X@Y - No se pueden multiplicar xque no cumple las propiedades de las matrices,\n",
    "# por lo que podemos hacer reshape o transmute\n",
    "\n",
    "# Cambiando el shape de la matriz \n",
    "tf.reshape(Y, shape=(2,3)) @ X\n",
    "tf.matmul(tf.reshape(Y, shape=(2,3)), X)\n",
    "\n",
    "# Usando la matriz traspuesta\n",
    "tf.transpose(Y), tf.reshape(Y,shape=(2,3))"
   ]
  },
  {
   "cell_type": "markdown",
   "id": "bd33ab8b-fed8-4ae6-b4d3-8587f6dae36d",
   "metadata": {},
   "source": [
    "**The dot product**\n",
    "\n",
    "Matrix multiplication is also referred as the dot product.\n",
    "\n",
    "You can perform matrix multiplication using:\n",
    "\n",
    "* `tf.matmul()`\n",
    "* `tf.tensordot()`\n",
    "* `@`"
   ]
  },
  {
   "cell_type": "code",
   "execution_count": 49,
   "id": "5dc93f26-aaf9-4049-9ca5-05c98df62184",
   "metadata": {},
   "outputs": [
    {
     "name": "stdout",
     "output_type": "stream",
     "text": [
      "tf.Tensor(\n",
      "[[ 89  98]\n",
      " [116 128]], shape=(2, 2), dtype=int32) tf.Tensor(\n",
      "[[ 23  29  35]\n",
      " [ 53  67  81]\n",
      " [ 83 105 127]], shape=(3, 3), dtype=int32) tf.Tensor(\n",
      "[[ 27  30  33]\n",
      " [ 61  68  75]\n",
      " [ 95 106 117]], shape=(3, 3), dtype=int32)\n"
     ]
    }
   ],
   "source": [
    "#Perform the dot product on X and Y (requieres X or Y to be transposed)\n",
    "\n",
    "# Todo esto nos daría resultados distintos\n",
    "\n",
    "A = tf.tensordot(tf.transpose(X), Y, axes=1)\n",
    "B = tf.tensordot(X, tf.transpose(Y), axes=1)\n",
    "C = tf.tensordot(X, tf.reshape(Y, shape=(2,3)), axes=1)\n",
    "\n",
    "print(A, B, C)"
   ]
  },
  {
   "cell_type": "markdown",
   "id": "6fa5640a-bfca-4b94-b910-9df20da00c50",
   "metadata": {},
   "source": [
    "**Changing the datatype of a tensor**\n",
    "\n",
    "Esto puede llegar a reducir el tiempo de ejecución a costa de un poco de precisión"
   ]
  },
  {
   "cell_type": "code",
   "execution_count": 56,
   "id": "5821c5d1-ba15-4f01-a586-d8cdbb561633",
   "metadata": {},
   "outputs": [
    {
     "data": {
      "text/plain": [
       "(tf.float32, tf.int32, tf.float16, tf.float32)"
      ]
     },
     "execution_count": 56,
     "metadata": {},
     "output_type": "execute_result"
    }
   ],
   "source": [
    "B = tf.constant([1.7, 7.4])\n",
    "\n",
    "C = tf.constant([1, 7])\n",
    "\n",
    "D = tf.cast(B, dtype=tf.float16)\n",
    "\n",
    "E = tf.cast(C, dtype=tf.float32)\n",
    "\n",
    "B.dtype, C.dtype, D.dtype, E.dtype"
   ]
  },
  {
   "cell_type": "markdown",
   "id": "f2c3e0be-7571-46c3-a97a-ce48fa2a02b3",
   "metadata": {},
   "source": [
    "**Aggregating tensors**\n",
    "\n",
    "Aggregating tensors = condensing then from multiple values down to a smaller ammount of values\n",
    "\n",
    "* Get the minimun\n",
    "* Get the maximun\n",
    "* Get the mean of a tensor\n",
    "* Get the sum of a tensor"
   ]
  },
  {
   "cell_type": "code",
   "execution_count": 58,
   "id": "31f0ecd5-eb66-4bed-84ad-38d896d69de3",
   "metadata": {},
   "outputs": [
    {
     "data": {
      "text/plain": [
       "<tf.Tensor: shape=(2,), dtype=int32, numpy=array([2, 7])>"
      ]
     },
     "execution_count": 58,
     "metadata": {},
     "output_type": "execute_result"
    }
   ],
   "source": [
    "# Get the absolute values\n",
    "\n",
    "F = tf.constant([-2,-7])\n",
    "tf.abs(F)"
   ]
  },
  {
   "cell_type": "code",
   "execution_count": 59,
   "id": "009f0a43-c6bf-48e5-8b98-7de34d68b286",
   "metadata": {},
   "outputs": [
    {
     "data": {
      "text/plain": [
       "<tf.Tensor: shape=(50,), dtype=int32, numpy=\n",
       "array([96, 10, 26, 89, 73, 99, 45, 86, 10, 30, 65, 76, 51,  7,  9, 41, 81,\n",
       "       19, 70,  7, 55, 30, 98, 20, 90, 78,  9, 85, 31, 29,  2, 49, 12, 75,\n",
       "       10, 78, 87, 95, 18, 36, 33, 15, 71, 91,  5, 70, 96, 73,  5, 37])>"
      ]
     },
     "execution_count": 59,
     "metadata": {},
     "output_type": "execute_result"
    }
   ],
   "source": [
    "# Create a random tensor with values between 0 and 100 of size 50\n",
    "\n",
    "E = tf.constant(np.random.randint(0, 100, size=50))\n",
    "E"
   ]
  },
  {
   "cell_type": "code",
   "execution_count": 87,
   "id": "f1f116b9-edfa-48e5-947e-75b6410f0c9c",
   "metadata": {},
   "outputs": [
    {
     "data": {
      "text/plain": [
       "<tf.Tensor: shape=(), dtype=float32, numpy=1054.5283>"
      ]
     },
     "execution_count": 87,
     "metadata": {},
     "output_type": "execute_result"
    }
   ],
   "source": [
    "tf.reduce_min(E), \n",
    "tf.reduce_max(E), \n",
    "tf.reduce_mean(E), \n",
    "tf.reduce_sum(E), \n",
    "tf.math.reduce_std(tf.cast(E, tf.float32)),  \n",
    "tf.math.reduce_variance(tf.cast(E, tf.float32))"
   ]
  },
  {
   "cell_type": "markdown",
   "id": "5c498c80-0e6a-461c-92a7-addb2aa54409",
   "metadata": {},
   "source": [
    "**Find the positional maximun and minimun**"
   ]
  },
  {
   "cell_type": "code",
   "execution_count": 96,
   "id": "d4694671-4f00-4892-96cd-c927ccde044d",
   "metadata": {},
   "outputs": [
    {
     "data": {
      "text/plain": [
       "<tf.Tensor: shape=(), dtype=bool, numpy=True>"
      ]
     },
     "execution_count": 96,
     "metadata": {},
     "output_type": "execute_result"
    }
   ],
   "source": [
    "# Creating a new tensor for finding positional minimun and maximun\n",
    "tf.random.set_seed(42)\n",
    "\n",
    "F = tf.random.uniform(shape=[50])\n",
    "\n",
    "# Find the positional maximun\n",
    "tf.argmax(F)\n",
    "\n",
    "# Index on our largest values position\n",
    "F[tf.argmax(F)]\n",
    "\n",
    "# Find max value of F\n",
    "tf.reduce_max(F)\n",
    "\n",
    "# Check for equality\n",
    "F[tf.argmax(F)] == tf.reduce_max(F)"
   ]
  },
  {
   "cell_type": "code",
   "execution_count": 99,
   "id": "d2e7486b-483e-451f-b167-be7e602a6d25",
   "metadata": {},
   "outputs": [
    {
     "data": {
      "text/plain": [
       "<tf.Tensor: shape=(), dtype=float32, numpy=0.009463668>"
      ]
     },
     "execution_count": 99,
     "metadata": {},
     "output_type": "execute_result"
    }
   ],
   "source": [
    "# Find the positional minimun\n",
    "tf.argmin(F)\n",
    "\n",
    "# Find the minimun using the positional minimun index\n",
    "F[tf.argmin(F)]"
   ]
  },
  {
   "cell_type": "markdown",
   "id": "345f8a53-4670-4e2a-bb11-bb62f1ae6174",
   "metadata": {},
   "source": [
    "**Squeezing a tensor (removing all single dimensions)**\n",
    "\n",
    "Remove dimensions of size 1 from the shape of a tensor"
   ]
  },
  {
   "cell_type": "code",
   "execution_count": 104,
   "id": "379c4d6e-58f3-4df8-b429-290ab1e2cd9e",
   "metadata": {},
   "outputs": [
    {
     "data": {
      "text/plain": [
       "<tf.Tensor: shape=(1, 1, 1, 1, 50), dtype=float32, numpy=\n",
       "array([[[[[0.7413678 , 0.62854624, 0.01738465, 0.3431449 , 0.51063764,\n",
       "           0.3777541 , 0.07321596, 0.02137029, 0.2871771 , 0.4710616 ,\n",
       "           0.6936141 , 0.07321334, 0.93251204, 0.20843053, 0.70105827,\n",
       "           0.45856392, 0.8596262 , 0.92934334, 0.20291913, 0.76865506,\n",
       "           0.60016024, 0.27039742, 0.88180614, 0.05365038, 0.42274463,\n",
       "           0.89037776, 0.7887033 , 0.10165584, 0.19408834, 0.27896714,\n",
       "           0.39512634, 0.12235212, 0.38412368, 0.9455296 , 0.77594674,\n",
       "           0.94442344, 0.04296565, 0.4746096 , 0.6548251 , 0.5657116 ,\n",
       "           0.13858628, 0.3004663 , 0.3311677 , 0.12907016, 0.6435652 ,\n",
       "           0.45473957, 0.68881893, 0.30203617, 0.49152803, 0.26529062]]]]],\n",
       "      dtype=float32)>"
      ]
     },
     "execution_count": 104,
     "metadata": {},
     "output_type": "execute_result"
    }
   ],
   "source": [
    "G = tf.constant(tf.random.uniform(shape=[50]), shape=(1,1,1,1,50))\n",
    "G"
   ]
  },
  {
   "cell_type": "code",
   "execution_count": 105,
   "id": "cee3d344-3a80-4192-af3d-d944e911c58e",
   "metadata": {},
   "outputs": [
    {
     "data": {
      "text/plain": [
       "TensorShape([1, 1, 1, 1, 50])"
      ]
     },
     "execution_count": 105,
     "metadata": {},
     "output_type": "execute_result"
    }
   ],
   "source": [
    "G.shape"
   ]
  },
  {
   "cell_type": "code",
   "execution_count": 107,
   "id": "50893870-0ebe-4679-b31c-23032cd5438e",
   "metadata": {},
   "outputs": [
    {
     "data": {
      "text/plain": [
       "<tf.Tensor: shape=(50,), dtype=float32, numpy=\n",
       "array([0.7413678 , 0.62854624, 0.01738465, 0.3431449 , 0.51063764,\n",
       "       0.3777541 , 0.07321596, 0.02137029, 0.2871771 , 0.4710616 ,\n",
       "       0.6936141 , 0.07321334, 0.93251204, 0.20843053, 0.70105827,\n",
       "       0.45856392, 0.8596262 , 0.92934334, 0.20291913, 0.76865506,\n",
       "       0.60016024, 0.27039742, 0.88180614, 0.05365038, 0.42274463,\n",
       "       0.89037776, 0.7887033 , 0.10165584, 0.19408834, 0.27896714,\n",
       "       0.39512634, 0.12235212, 0.38412368, 0.9455296 , 0.77594674,\n",
       "       0.94442344, 0.04296565, 0.4746096 , 0.6548251 , 0.5657116 ,\n",
       "       0.13858628, 0.3004663 , 0.3311677 , 0.12907016, 0.6435652 ,\n",
       "       0.45473957, 0.68881893, 0.30203617, 0.49152803, 0.26529062],\n",
       "      dtype=float32)>"
      ]
     },
     "execution_count": 107,
     "metadata": {},
     "output_type": "execute_result"
    }
   ],
   "source": [
    "G_squeezed = tf.squeeze(G)\n",
    "G_squeezed"
   ]
  },
  {
   "cell_type": "markdown",
   "id": "9e004b8f-f77d-4e43-af02-4910d7dfb669",
   "metadata": {},
   "source": [
    "**One-hot encoding tensors**\n",
    "\n",
    "Un One Hot Encoder es una técnica de preprocesamiento utilizada en machine learning para convertir datos categóricos en una representación numérica que pueda ser utilizada por modelos de aprendizaje automático. La idea principal es transformar cada categoría en un vector binario donde solo un valor es 1 y los demás son 0."
   ]
  },
  {
   "cell_type": "code",
   "execution_count": 119,
   "id": "9f5c4910-c1f4-442f-bd8e-f726e743d7fc",
   "metadata": {},
   "outputs": [
    {
     "data": {
      "text/plain": [
       "<tf.Tensor: shape=(4, 4), dtype=float32, numpy=\n",
       "array([[1., 0., 0., 0.],\n",
       "       [0., 1., 0., 0.],\n",
       "       [0., 0., 1., 0.],\n",
       "       [0., 0., 0., 1.]], dtype=float32)>"
      ]
     },
     "execution_count": 119,
     "metadata": {},
     "output_type": "execute_result"
    }
   ],
   "source": [
    "some_list = [0, 1, 2, 3]\n",
    "\n",
    "# ONE HOT ENCODE OUR LIST OF INDICES\n",
    "tf.one_hot(some_list, depth=4)"
   ]
  },
  {
   "cell_type": "code",
   "execution_count": 116,
   "id": "b70315ca-4afd-4e10-881a-7cf3bb9703b5",
   "metadata": {},
   "outputs": [
    {
     "data": {
      "text/plain": [
       "<tf.Tensor: shape=(4, 4), dtype=string, numpy=\n",
       "array([[b'VALOR-TRUE', b'VALOR-FALSE', b'VALOR-FALSE', b'VALOR-FALSE'],\n",
       "       [b'VALOR-FALSE', b'VALOR-TRUE', b'VALOR-FALSE', b'VALOR-FALSE'],\n",
       "       [b'VALOR-FALSE', b'VALOR-FALSE', b'VALOR-TRUE', b'VALOR-FALSE'],\n",
       "       [b'VALOR-FALSE', b'VALOR-FALSE', b'VALOR-FALSE', b'VALOR-TRUE']],\n",
       "      dtype=object)>"
      ]
     },
     "execution_count": 116,
     "metadata": {},
     "output_type": "execute_result"
    }
   ],
   "source": [
    "# Specify custom values for one hot encoding\n",
    "tf.one_hot(some_list, depth=4, on_value=\"VALOR-TRUE\", off_value=\"VALOR-FALSE\")"
   ]
  },
  {
   "cell_type": "markdown",
   "id": "5249b1be-b7f7-4ca3-8ada-23140a3fb32f",
   "metadata": {},
   "source": [
    "**Squaring, log, square root**"
   ]
  },
  {
   "cell_type": "code",
   "execution_count": 126,
   "id": "c2055922-93c6-4af0-9be5-e62edbc01f7a",
   "metadata": {},
   "outputs": [],
   "source": [
    "H = tf.range(1, 10)"
   ]
  },
  {
   "cell_type": "code",
   "execution_count": 125,
   "id": "4e2a542c-41de-409e-8a8f-bd66a9834086",
   "metadata": {},
   "outputs": [
    {
     "data": {
      "text/plain": [
       "<tf.Tensor: shape=(9,), dtype=float32, numpy=\n",
       "array([0.       , 0.6931472, 1.0986123, 1.3862944, 1.609438 , 1.7917595,\n",
       "       1.9459102, 2.0794415, 2.1972246], dtype=float32)>"
      ]
     },
     "execution_count": 125,
     "metadata": {},
     "output_type": "execute_result"
    }
   ],
   "source": [
    "tf.square(H)\n",
    "tf.sqrt(tf.cast(H, dtype=tf.float32))\n",
    "tf.math.log(tf.cast(H, dtype=tf.float32))"
   ]
  },
  {
   "cell_type": "markdown",
   "id": "763ddada-6409-4adf-9184-3f40dca5af25",
   "metadata": {},
   "source": [
    "**Tensors and Numpy**\n",
    "\n",
    "Tensorflow intereacts beautifully with Numpy Arrays"
   ]
  },
  {
   "cell_type": "code",
   "execution_count": 127,
   "id": "eeafe9a3-3f0d-4cc2-a3a8-6a2ef15e87e3",
   "metadata": {},
   "outputs": [],
   "source": [
    "# Create a tensor directly from a Numpy array\n",
    "J = tf.constant(np.array([3.,7.,10.]))"
   ]
  },
  {
   "cell_type": "code",
   "execution_count": 128,
   "id": "8a1c3b1a-4b64-47da-a5ea-8c8d0460a008",
   "metadata": {},
   "outputs": [
    {
     "data": {
      "text/plain": [
       "(array([ 3.,  7., 10.]), numpy.ndarray)"
      ]
     },
     "execution_count": 128,
     "metadata": {},
     "output_type": "execute_result"
    }
   ],
   "source": [
    "# Convert our tensor back to a Numpy array\n",
    "np.array(J), type(np.array(J))"
   ]
  },
  {
   "cell_type": "code",
   "execution_count": 129,
   "id": "1c7448b0-b70d-455d-938d-a89344769594",
   "metadata": {},
   "outputs": [
    {
     "data": {
      "text/plain": [
       "(array([ 3.,  7., 10.]), numpy.ndarray)"
      ]
     },
     "execution_count": 129,
     "metadata": {},
     "output_type": "execute_result"
    }
   ],
   "source": [
    "# Convert tensor J to a Numpy array\n",
    "J.numpy(), type(J.numpy())"
   ]
  },
  {
   "cell_type": "code",
   "execution_count": 130,
   "id": "c3c587ef-2d52-4741-a073-0e3ff469165d",
   "metadata": {},
   "outputs": [
    {
     "data": {
      "text/plain": [
       "3.0"
      ]
     },
     "execution_count": 130,
     "metadata": {},
     "output_type": "execute_result"
    }
   ],
   "source": [
    "J = tf.constant([3.])\n",
    "J.numpy()[0]"
   ]
  },
  {
   "cell_type": "markdown",
   "id": "5b53f06e-1732-4313-9f4f-ea8939ed30c1",
   "metadata": {},
   "source": [
    "# The default types of each types are slightly different\n",
    "numpy_J = tf.constant(np.array([3.,7.,10.]))\n",
    "tensor_J = tf.constant([3.,7., 10.])\n",
    "\n",
    "#Check the datatypes of each\n",
    "numpy_J.dtype, tensor_J.dtype"
   ]
  },
  {
   "cell_type": "markdown",
   "id": "9cca3e0e-a8bd-4e23-9e97-d2cc6c3a496f",
   "metadata": {},
   "source": [
    "**Finding access to GPUs**"
   ]
  },
  {
   "cell_type": "code",
   "execution_count": 135,
   "id": "fb69d06f-c855-4325-9571-ee729dceb310",
   "metadata": {},
   "outputs": [
    {
     "data": {
      "text/plain": [
       "[PhysicalDevice(name='/physical_device:CPU:0', device_type='CPU')]"
      ]
     },
     "execution_count": 135,
     "metadata": {},
     "output_type": "execute_result"
    }
   ],
   "source": [
    "tf.config.list_physical_devices()\n",
    "\n",
    "# Lo suyo sería correr tensorflow en GPU y no en CPU\n"
   ]
  },
  {
   "cell_type": "code",
   "execution_count": 136,
   "id": "772747c5-f65c-4209-9efc-524e34b835df",
   "metadata": {},
   "outputs": [
    {
     "name": "stdout",
     "output_type": "stream",
     "text": [
      "Sun Aug 18 17:57:00 2024       \n",
      "+-----------------------------------------------------------------------------------------+\n",
      "| NVIDIA-SMI 556.24                 Driver Version: 556.24         CUDA Version: 12.5     |\n",
      "|-----------------------------------------+------------------------+----------------------+\n",
      "| GPU  Name                  Driver-Model | Bus-Id          Disp.A | Volatile Uncorr. ECC |\n",
      "| Fan  Temp   Perf          Pwr:Usage/Cap |           Memory-Usage | GPU-Util  Compute M. |\n",
      "|                                         |                        |               MIG M. |\n",
      "|=========================================+========================+======================|\n",
      "|   0  NVIDIA GeForce RTX 4060 ...  WDDM  |   00000000:01:00.0 Off |                  N/A |\n",
      "| N/A   36C    P3             13W /   45W |       0MiB /   8188MiB |      0%      Default |\n",
      "|                                         |                        |                  N/A |\n",
      "+-----------------------------------------+------------------------+----------------------+\n",
      "                                                                                         \n",
      "+-----------------------------------------------------------------------------------------+\n",
      "| Processes:                                                                              |\n",
      "|  GPU   GI   CI        PID   Type   Process name                              GPU Memory |\n",
      "|        ID   ID                                                               Usage      |\n",
      "|=========================================================================================|\n",
      "|  No running processes found                                                             |\n",
      "+-----------------------------------------------------------------------------------------+\n"
     ]
    }
   ],
   "source": [
    "!nvidia-smi"
   ]
  },
  {
   "cell_type": "markdown",
   "id": "e922b91c-a764-47f4-b44d-8dc4740ab4a7",
   "metadata": {},
   "source": [
    "**Ejercicios**\n",
    "\n",
    "1-Create a vector, scalar, matrix and tensor with values of your choosing using tf.constant().\n",
    "\n",
    "2-Find the shape, rank and size of the tensors you created in 1.\n",
    "\n",
    "3-Create two tensors containing random values between 0 and 1 with shape [5, 300].\n",
    "\n",
    "4-Multiply the two tensors you created in 3 using matrix multiplication.\n",
    "    \n",
    "5-Multiply the two tensors you created in 3 using dot product.\n",
    "    \n",
    "6-Create a tensor with random values between 0 and 1 with shape [224, 224, 3].\n",
    "    \n",
    "7-Find the min and max values of the tensor you created in 6 along the first axis.\n",
    "    \n",
    "8-Created a tensor with random values of shape [1, 224, 224, 3] then squeeze it to change the shape to [224, 224, 3].\n",
    "    \n",
    "9-Create a tensor with shape [10] using your own choice of values, then find the index which has the maximum value.\n",
    "\n",
    "10-One-hot encode the tensor you created in 9."
   ]
  }
 ],
 "metadata": {
  "kernelspec": {
   "display_name": "Python 3 (ipykernel)",
   "language": "python",
   "name": "python3"
  },
  "language_info": {
   "codemirror_mode": {
    "name": "ipython",
    "version": 3
   },
   "file_extension": ".py",
   "mimetype": "text/x-python",
   "name": "python",
   "nbconvert_exporter": "python",
   "pygments_lexer": "ipython3",
   "version": "3.12.4"
  }
 },
 "nbformat": 4,
 "nbformat_minor": 5
}
